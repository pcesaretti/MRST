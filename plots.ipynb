{
 "cells": [
  {
   "cell_type": "code",
   "execution_count": 42,
   "metadata": {},
   "outputs": [],
   "source": [
    "import _pickle as cPickle\n",
    "import numpy as np\n",
    "import matplotlib.pyplot as plt\n",
    "import lsh\n",
    "import pylab"
   ]
  },
  {
   "cell_type": "code",
   "execution_count": 47,
   "metadata": {},
   "outputs": [],
   "source": [
    "def boxplots(fileName,cdist,h):\n",
    "\n",
    "    data =  dict()\n",
    "\n",
    "    for i in range(len(h)):\n",
    "        for j in range(i,len(h)):\n",
    "            val = int(cdist[i][j])\n",
    "            if val in data:\n",
    "                data[val].append(h[i][j])\n",
    "            else: \n",
    "                data[val] = [h[i][j]]\n",
    "                \n",
    "    fpickle = fileName.split('/')\n",
    "    writePickle(\"trajectories/pickle/\" + fpickle[1] + \"boxplotdata\", data)\n",
    "\n",
    "def boxplotsfromFile(fileName,ylabel,name):\n",
    "\n",
    "    f =  open(fileName, 'rb')\n",
    "    data = cPickle.load(f)\n",
    "    f.close()\n",
    "    fpickle = fileName.split('/')\n",
    "\n",
    "    ys = [np.median(a) for a in data.values()]\n",
    "    errors1 = [np.percentile(a,95) for a in data.values()]\n",
    "    errors2 = [np.percentile(a,5) for a in data.values()]\n",
    "    errors = [np.std(a) for a in data.values()]\n",
    "    xs = range(1,len(data.values())+1)\n",
    "    ys1 = [ys[i]-errors[i] for i in range(len(ys))]\n",
    "    ys2 = [ys[i]+errors[i] for i in range(len(ys))]\n",
    "    #plt.plot(xs, ys, '-')\n",
    "    plt.plot(xs, ys, 'ro-')\n",
    "    pylab.fill_between(xs, errors2, errors1, alpha = 0.5)\n",
    "    ax = plt.axes()\n",
    "    plt.xticks(np.arange(min(data.keys()), max(data.keys())+10, 10))\n",
    "    plt.yticks(np.arange(0, max(ys)+1000, 1000))\n",
    "\n",
    "    if fileName!=\"\":\n",
    "        plt.xlabel('Disc Intersection Distance')\n",
    "        plt.ylabel(ylabel)\n",
    "        #savefig(fpickle[0]+ \"/\" +fpickle[1]+\"/boxplots/\" + name, bbox_inches='tight')\n",
    "        plt.show()\n",
    "        #plt.close()\n",
    "\n",
    "def writePickle(where, what):\n",
    "\n",
    "    newf = open(where, 'wb')\n",
    "    cPickle.dump(what,newf)\n",
    "    newf.close()"
   ]
  },
  {
   "cell_type": "code",
   "execution_count": 49,
   "metadata": {},
   "outputs": [],
   "source": [
    "a = open(\"trajectories/pkdd100-utm-box\",'rb')\n",
    "h = cPickle.load(open( \"haus100-utm-box\",\"rb\"))\n",
    "f = cPickle.load(open( \"frechet100-utm-box\",\"rb\"))\n",
    "trajectories = cPickle.load(a)\n",
    "a.close()"
   ]
  },
  {
   "cell_type": "code",
   "execution_count": 53,
   "metadata": {},
   "outputs": [],
   "source": [
    "n = 40\n",
    "Rs = np.repeat(3000,n)\n",
    "circles = lsh.findCircles(trajectories, n)\n",
    "binary_vectors = lsh.binaryVectors(trajectories, circles, Rs)\n",
    "cdist = lsh.makeCdist(trajectories,circles,binary_vectors)"
   ]
  },
  {
   "cell_type": "code",
   "execution_count": 58,
   "metadata": {},
   "outputs": [],
   "source": [
    "boxplots(\"trajectories/pkdd100-utm-box\",cdist,h)"
   ]
  },
  {
   "cell_type": "code",
   "execution_count": 59,
   "metadata": {},
   "outputs": [
    {
     "name": "stderr",
     "output_type": "stream",
     "text": [
      "/afs/inf.ed.ac.uk/user/s10/s1043682/.local/lib/python3.4/site-packages/matplotlib/cbook/deprecation.py:106: MatplotlibDeprecationWarning: Adding an axes using the same arguments as a previous axes currently reuses the earlier instance.  In a future version, a new instance will always be created and returned.  Meanwhile, this warning can be suppressed, and the future behavior ensured, by passing a unique label to each axes instance.\n",
      "  warnings.warn(message, mplDeprecation, stacklevel=1)\n"
     ]
    },
    {
     "data": {
      "image/png": "[encoded data removed]",
      "text/plain": [
       "<matplotlib.figure.Figure at 0x7fc2cbb65278>"
      ]
     },
     "metadata": {},
     "output_type": "display_data"
    }
   ],
   "source": [
    "boxplotsfromFile(\"trajectories/pickle/pkdd100-utm-boxboxplotdata\",\"Hausdorff distance\",\"\")"
   ]
  },
  {
   "cell_type": "code",
   "execution_count": null,
   "metadata": {},
   "outputs": [],
   "source": []
  }
 ],
 "metadata": {
  "kernelspec": {
   "display_name": "Python 3 - L",
   "language": "python",
   "name": "python3-l"
  },
  "language_info": {
   "codemirror_mode": {
    "name": "ipython",
    "version": 3
   },
   "file_extension": ".py",
   "mimetype": "text/x-python",
   "name": "python",
   "nbconvert_exporter": "python",
   "pygments_lexer": "ipython3",
   "version": "3.4.2"
  }
 },
 "nbformat": 4,
 "nbformat_minor": 2
}
